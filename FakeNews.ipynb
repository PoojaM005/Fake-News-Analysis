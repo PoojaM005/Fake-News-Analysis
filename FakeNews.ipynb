{
  "nbformat": 4,
  "nbformat_minor": 0,
  "metadata": {
    "kernelspec": {
      "display_name": "Python 3",
      "language": "python",
      "name": "python3"
    },
    "language_info": {
      "codemirror_mode": {
        "name": "ipython",
        "version": 3
      },
      "file_extension": ".py",
      "mimetype": "text/x-python",
      "name": "python",
      "nbconvert_exporter": "python",
      "pygments_lexer": "ipython3",
      "version": "3.7.6"
    },
    "colab": {
      "name": "FakeNews.ipynb",
      "provenance": []
    }
  },
  "cells": [
    {
      "cell_type": "markdown",
      "metadata": {
        "id": "G5hn3YotyHIm",
        "colab_type": "text"
      },
      "source": [
        "# Include Libraries"
      ]
    },
    {
      "cell_type": "code",
      "metadata": {
        "id": "zfACuBzAyHIn",
        "colab_type": "code",
        "colab": {}
      },
      "source": [
        "import pandas as pd\n",
        "import numpy as np\n",
        "import sklearn\n",
        "from sklearn.model_selection import train_test_split, validation_curve,\\\n",
        "ShuffleSplit, learning_curve\n",
        "from sklearn.feature_extraction.text import CountVectorizer, TfidfVectorizer, \\\n",
        "HashingVectorizer\n",
        "from sklearn.metrics import accuracy_score\n",
        "from sklearn.naive_bayes import MultinomialNB\n",
        "from sklearn import metrics\n",
        "from sklearn.metrics  import confusion_matrix\n",
        "import matplotlib.pyplot as plt\n",
        "from sklearn.linear_model import PassiveAggressiveClassifier\n",
        "import itertools"
      ],
      "execution_count": 0,
      "outputs": []
    },
    {
      "cell_type": "markdown",
      "metadata": {
        "id": "WU5I4zMGyHIr",
        "colab_type": "text"
      },
      "source": [
        "# Import Data"
      ]
    },
    {
      "cell_type": "code",
      "metadata": {
        "id": "pjEXSOInyHIs",
        "colab_type": "code",
        "outputId": "795c58b4-2385-4aa9-db96-342767a4cf5c",
        "colab": {
          "resources": {
            "http://localhost:8080/nbextensions/google.colab/files.js": {
              "data": "Ly8gQ29weXJpZ2h0IDIwMTcgR29vZ2xlIExMQwovLwovLyBMaWNlbnNlZCB1bmRlciB0aGUgQXBhY2hlIExpY2Vuc2UsIFZlcnNpb24gMi4wICh0aGUgIkxpY2Vuc2UiKTsKLy8geW91IG1heSBub3QgdXNlIHRoaXMgZmlsZSBleGNlcHQgaW4gY29tcGxpYW5jZSB3aXRoIHRoZSBMaWNlbnNlLgovLyBZb3UgbWF5IG9idGFpbiBhIGNvcHkgb2YgdGhlIExpY2Vuc2UgYXQKLy8KLy8gICAgICBodHRwOi8vd3d3LmFwYWNoZS5vcmcvbGljZW5zZXMvTElDRU5TRS0yLjAKLy8KLy8gVW5sZXNzIHJlcXVpcmVkIGJ5IGFwcGxpY2FibGUgbGF3IG9yIGFncmVlZCB0byBpbiB3cml0aW5nLCBzb2Z0d2FyZQovLyBkaXN0cmlidXRlZCB1bmRlciB0aGUgTGljZW5zZSBpcyBkaXN0cmlidXRlZCBvbiBhbiAiQVMgSVMiIEJBU0lTLAovLyBXSVRIT1VUIFdBUlJBTlRJRVMgT1IgQ09ORElUSU9OUyBPRiBBTlkgS0lORCwgZWl0aGVyIGV4cHJlc3Mgb3IgaW1wbGllZC4KLy8gU2VlIHRoZSBMaWNlbnNlIGZvciB0aGUgc3BlY2lmaWMgbGFuZ3VhZ2UgZ292ZXJuaW5nIHBlcm1pc3Npb25zIGFuZAovLyBsaW1pdGF0aW9ucyB1bmRlciB0aGUgTGljZW5zZS4KCi8qKgogKiBAZmlsZW92ZXJ2aWV3IEhlbHBlcnMgZm9yIGdvb2dsZS5jb2xhYiBQeXRob24gbW9kdWxlLgogKi8KKGZ1bmN0aW9uKHNjb3BlKSB7CmZ1bmN0aW9uIHNwYW4odGV4dCwgc3R5bGVBdHRyaWJ1dGVzID0ge30pIHsKICBjb25zdCBlbGVtZW50ID0gZG9jdW1lbnQuY3JlYXRlRWxlbWVudCgnc3BhbicpOwogIGVsZW1lbnQudGV4dENvbnRlbnQgPSB0ZXh0OwogIGZvciAoY29uc3Qga2V5IG9mIE9iamVjdC5rZXlzKHN0eWxlQXR0cmlidXRlcykpIHsKICAgIGVsZW1lbnQuc3R5bGVba2V5XSA9IHN0eWxlQXR0cmlidXRlc1trZXldOwogIH0KICByZXR1cm4gZWxlbWVudDsKfQoKLy8gTWF4IG51bWJlciBvZiBieXRlcyB3aGljaCB3aWxsIGJlIHVwbG9hZGVkIGF0IGEgdGltZS4KY29uc3QgTUFYX1BBWUxPQURfU0laRSA9IDEwMCAqIDEwMjQ7Ci8vIE1heCBhbW91bnQgb2YgdGltZSB0byBibG9jayB3YWl0aW5nIGZvciB0aGUgdXNlci4KY29uc3QgRklMRV9DSEFOR0VfVElNRU9VVF9NUyA9IDMwICogMTAwMDsKCmZ1bmN0aW9uIF91cGxvYWRGaWxlcyhpbnB1dElkLCBvdXRwdXRJZCkgewogIGNvbnN0IHN0ZXBzID0gdXBsb2FkRmlsZXNTdGVwKGlucHV0SWQsIG91dHB1dElkKTsKICBjb25zdCBvdXRwdXRFbGVtZW50ID0gZG9jdW1lbnQuZ2V0RWxlbWVudEJ5SWQob3V0cHV0SWQpOwogIC8vIENhY2hlIHN0ZXBzIG9uIHRoZSBvdXRwdXRFbGVtZW50IHRvIG1ha2UgaXQgYXZhaWxhYmxlIGZvciB0aGUgbmV4dCBjYWxsCiAgLy8gdG8gdXBsb2FkRmlsZXNDb250aW51ZSBmcm9tIFB5dGhvbi4KICBvdXRwdXRFbGVtZW50LnN0ZXBzID0gc3RlcHM7CgogIHJldHVybiBfdXBsb2FkRmlsZXNDb250aW51ZShvdXRwdXRJZCk7Cn0KCi8vIFRoaXMgaXMgcm91Z2hseSBhbiBhc3luYyBnZW5lcmF0b3IgKG5vdCBzdXBwb3J0ZWQgaW4gdGhlIGJyb3dzZXIgeWV0KSwKLy8gd2hlcmUgdGhlcmUgYXJlIG11bHRpcGxlIGFzeW5jaHJvbm91cyBzdGVwcyBhbmQgdGhlIFB5dGhvbiBzaWRlIGlzIGdvaW5nCi8vIHRvIHBvbGwgZm9yIGNvbXBsZXRpb24gb2YgZWFjaCBzdGVwLgovLyBUaGlzIHVzZXMgYSBQcm9taXNlIHRvIGJsb2NrIHRoZSBweXRob24gc2lkZSBvbiBjb21wbGV0aW9uIG9mIGVhY2ggc3RlcCwKLy8gdGhlbiBwYXNzZXMgdGhlIHJlc3VsdCBvZiB0aGUgcHJldmlvdXMgc3RlcCBhcyB0aGUgaW5wdXQgdG8gdGhlIG5leHQgc3RlcC4KZnVuY3Rpb24gX3VwbG9hZEZpbGVzQ29udGludWUob3V0cHV0SWQpIHsKICBjb25zdCBvdXRwdXRFbGVtZW50ID0gZG9jdW1lbnQuZ2V0RWxlbWVudEJ5SWQob3V0cHV0SWQpOwogIGNvbnN0IHN0ZXBzID0gb3V0cHV0RWxlbWVudC5zdGVwczsKCiAgY29uc3QgbmV4dCA9IHN0ZXBzLm5leHQob3V0cHV0RWxlbWVudC5sYXN0UHJvbWlzZVZhbHVlKTsKICByZXR1cm4gUHJvbWlzZS5yZXNvbHZlKG5leHQudmFsdWUucHJvbWlzZSkudGhlbigodmFsdWUpID0+IHsKICAgIC8vIENhY2hlIHRoZSBsYXN0IHByb21pc2UgdmFsdWUgdG8gbWFrZSBpdCBhdmFpbGFibGUgdG8gdGhlIG5leHQKICAgIC8vIHN0ZXAgb2YgdGhlIGdlbmVyYXRvci4KICAgIG91dHB1dEVsZW1lbnQubGFzdFByb21pc2VWYWx1ZSA9IHZhbHVlOwogICAgcmV0dXJuIG5leHQudmFsdWUucmVzcG9uc2U7CiAgfSk7Cn0KCi8qKgogKiBHZW5lcmF0b3IgZnVuY3Rpb24gd2hpY2ggaXMgY2FsbGVkIGJldHdlZW4gZWFjaCBhc3luYyBzdGVwIG9mIHRoZSB1cGxvYWQKICogcHJvY2Vzcy4KICogQHBhcmFtIHtzdHJpbmd9IGlucHV0SWQgRWxlbWVudCBJRCBvZiB0aGUgaW5wdXQgZmlsZSBwaWNrZXIgZWxlbWVudC4KICogQHBhcmFtIHtzdHJpbmd9IG91dHB1dElkIEVsZW1lbnQgSUQgb2YgdGhlIG91dHB1dCBkaXNwbGF5LgogKiBAcmV0dXJuIHshSXRlcmFibGU8IU9iamVjdD59IEl0ZXJhYmxlIG9mIG5leHQgc3RlcHMuCiAqLwpmdW5jdGlvbiogdXBsb2FkRmlsZXNTdGVwKGlucHV0SWQsIG91dHB1dElkKSB7CiAgY29uc3QgaW5wdXRFbGVtZW50ID0gZG9jdW1lbnQuZ2V0RWxlbWVudEJ5SWQoaW5wdXRJZCk7CiAgaW5wdXRFbGVtZW50LmRpc2FibGVkID0gZmFsc2U7CgogIGNvbnN0IG91dHB1dEVsZW1lbnQgPSBkb2N1bWVudC5nZXRFbGVtZW50QnlJZChvdXRwdXRJZCk7CiAgb3V0cHV0RWxlbWVudC5pbm5lckhUTUwgPSAnJzsKCiAgY29uc3QgcGlja2VkUHJvbWlzZSA9IG5ldyBQcm9taXNlKChyZXNvbHZlKSA9PiB7CiAgICBpbnB1dEVsZW1lbnQuYWRkRXZlbnRMaXN0ZW5lcignY2hhbmdlJywgKGUpID0+IHsKICAgICAgcmVzb2x2ZShlLnRhcmdldC5maWxlcyk7CiAgICB9KTsKICB9KTsKCiAgY29uc3QgY2FuY2VsID0gZG9jdW1lbnQuY3JlYXRlRWxlbWVudCgnYnV0dG9uJyk7CiAgaW5wdXRFbGVtZW50LnBhcmVudEVsZW1lbnQuYXBwZW5kQ2hpbGQoY2FuY2VsKTsKICBjYW5jZWwudGV4dENvbnRlbnQgPSAnQ2FuY2VsIHVwbG9hZCc7CiAgY29uc3QgY2FuY2VsUHJvbWlzZSA9IG5ldyBQcm9taXNlKChyZXNvbHZlKSA9PiB7CiAgICBjYW5jZWwub25jbGljayA9ICgpID0+IHsKICAgICAgcmVzb2x2ZShudWxsKTsKICAgIH07CiAgfSk7CgogIC8vIENhbmNlbCB1cGxvYWQgaWYgdXNlciBoYXNuJ3QgcGlja2VkIGFueXRoaW5nIGluIHRpbWVvdXQuCiAgY29uc3QgdGltZW91dFByb21pc2UgPSBuZXcgUHJvbWlzZSgocmVzb2x2ZSkgPT4gewogICAgc2V0VGltZW91dCgoKSA9PiB7CiAgICAgIHJlc29sdmUobnVsbCk7CiAgICB9LCBGSUxFX0NIQU5HRV9USU1FT1VUX01TKTsKICB9KTsKCiAgLy8gV2FpdCBmb3IgdGhlIHVzZXIgdG8gcGljayB0aGUgZmlsZXMuCiAgY29uc3QgZmlsZXMgPSB5aWVsZCB7CiAgICBwcm9taXNlOiBQcm9taXNlLnJhY2UoW3BpY2tlZFByb21pc2UsIHRpbWVvdXRQcm9taXNlLCBjYW5jZWxQcm9taXNlXSksCiAgICByZXNwb25zZTogewogICAgICBhY3Rpb246ICdzdGFydGluZycsCiAgICB9CiAgfTsKCiAgaWYgKCFmaWxlcykgewogICAgcmV0dXJuIHsKICAgICAgcmVzcG9uc2U6IHsKICAgICAgICBhY3Rpb246ICdjb21wbGV0ZScsCiAgICAgIH0KICAgIH07CiAgfQoKICBjYW5jZWwucmVtb3ZlKCk7CgogIC8vIERpc2FibGUgdGhlIGlucHV0IGVsZW1lbnQgc2luY2UgZnVydGhlciBwaWNrcyBhcmUgbm90IGFsbG93ZWQuCiAgaW5wdXRFbGVtZW50LmRpc2FibGVkID0gdHJ1ZTsKCiAgZm9yIChjb25zdCBmaWxlIG9mIGZpbGVzKSB7CiAgICBjb25zdCBsaSA9IGRvY3VtZW50LmNyZWF0ZUVsZW1lbnQoJ2xpJyk7CiAgICBsaS5hcHBlbmQoc3BhbihmaWxlLm5hbWUsIHtmb250V2VpZ2h0OiAnYm9sZCd9KSk7CiAgICBsaS5hcHBlbmQoc3BhbigKICAgICAgICBgKCR7ZmlsZS50eXBlIHx8ICduL2EnfSkgLSAke2ZpbGUuc2l6ZX0gYnl0ZXMsIGAgKwogICAgICAgIGBsYXN0IG1vZGlmaWVkOiAkewogICAgICAgICAgICBmaWxlLmxhc3RNb2RpZmllZERhdGUgPyBmaWxlLmxhc3RNb2RpZmllZERhdGUudG9Mb2NhbGVEYXRlU3RyaW5nKCkgOgogICAgICAgICAgICAgICAgICAgICAgICAgICAgICAgICAgICAnbi9hJ30gLSBgKSk7CiAgICBjb25zdCBwZXJjZW50ID0gc3BhbignMCUgZG9uZScpOwogICAgbGkuYXBwZW5kQ2hpbGQocGVyY2VudCk7CgogICAgb3V0cHV0RWxlbWVudC5hcHBlbmRDaGlsZChsaSk7CgogICAgY29uc3QgZmlsZURhdGFQcm9taXNlID0gbmV3IFByb21pc2UoKHJlc29sdmUpID0+IHsKICAgICAgY29uc3QgcmVhZGVyID0gbmV3IEZpbGVSZWFkZXIoKTsKICAgICAgcmVhZGVyLm9ubG9hZCA9IChlKSA9PiB7CiAgICAgICAgcmVzb2x2ZShlLnRhcmdldC5yZXN1bHQpOwogICAgICB9OwogICAgICByZWFkZXIucmVhZEFzQXJyYXlCdWZmZXIoZmlsZSk7CiAgICB9KTsKICAgIC8vIFdhaXQgZm9yIHRoZSBkYXRhIHRvIGJlIHJlYWR5LgogICAgbGV0IGZpbGVEYXRhID0geWllbGQgewogICAgICBwcm9taXNlOiBmaWxlRGF0YVByb21pc2UsCiAgICAgIHJlc3BvbnNlOiB7CiAgICAgICAgYWN0aW9uOiAnY29udGludWUnLAogICAgICB9CiAgICB9OwoKICAgIC8vIFVzZSBhIGNodW5rZWQgc2VuZGluZyB0byBhdm9pZCBtZXNzYWdlIHNpemUgbGltaXRzLiBTZWUgYi82MjExNTY2MC4KICAgIGxldCBwb3NpdGlvbiA9IDA7CiAgICB3aGlsZSAocG9zaXRpb24gPCBmaWxlRGF0YS5ieXRlTGVuZ3RoKSB7CiAgICAgIGNvbnN0IGxlbmd0aCA9IE1hdGgubWluKGZpbGVEYXRhLmJ5dGVMZW5ndGggLSBwb3NpdGlvbiwgTUFYX1BBWUxPQURfU0laRSk7CiAgICAgIGNvbnN0IGNodW5rID0gbmV3IFVpbnQ4QXJyYXkoZmlsZURhdGEsIHBvc2l0aW9uLCBsZW5ndGgpOwogICAgICBwb3NpdGlvbiArPSBsZW5ndGg7CgogICAgICBjb25zdCBiYXNlNjQgPSBidG9hKFN0cmluZy5mcm9tQ2hhckNvZGUuYXBwbHkobnVsbCwgY2h1bmspKTsKICAgICAgeWllbGQgewogICAgICAgIHJlc3BvbnNlOiB7CiAgICAgICAgICBhY3Rpb246ICdhcHBlbmQnLAogICAgICAgICAgZmlsZTogZmlsZS5uYW1lLAogICAgICAgICAgZGF0YTogYmFzZTY0LAogICAgICAgIH0sCiAgICAgIH07CiAgICAgIHBlcmNlbnQudGV4dENvbnRlbnQgPQogICAgICAgICAgYCR7TWF0aC5yb3VuZCgocG9zaXRpb24gLyBmaWxlRGF0YS5ieXRlTGVuZ3RoKSAqIDEwMCl9JSBkb25lYDsKICAgIH0KICB9CgogIC8vIEFsbCBkb25lLgogIHlpZWxkIHsKICAgIHJlc3BvbnNlOiB7CiAgICAgIGFjdGlvbjogJ2NvbXBsZXRlJywKICAgIH0KICB9Owp9CgpzY29wZS5nb29nbGUgPSBzY29wZS5nb29nbGUgfHwge307CnNjb3BlLmdvb2dsZS5jb2xhYiA9IHNjb3BlLmdvb2dsZS5jb2xhYiB8fCB7fTsKc2NvcGUuZ29vZ2xlLmNvbGFiLl9maWxlcyA9IHsKICBfdXBsb2FkRmlsZXMsCiAgX3VwbG9hZEZpbGVzQ29udGludWUsCn07Cn0pKHNlbGYpOwo=",
              "ok": true,
              "headers": [
                [
                  "content-type",
                  "application/javascript"
                ]
              ],
              "status": 200,
              "status_text": ""
            }
          },
          "base_uri": "https://localhost:8080/",
          "height": 91
        }
      },
      "source": [
        "from google.colab import files\n",
        "uploaded = files.upload()\n",
        "import io\n",
        "data = pd.read_csv(io.BytesIO(uploaded['fake_or_real_news.csv']))\n",
        "\n",
        "data.shape"
      ],
      "execution_count": 0,
      "outputs": [
        {
          "output_type": "display_data",
          "data": {
            "text/html": [
              "\n",
              "     <input type=\"file\" id=\"files-c2bec03b-1056-4ecc-895e-6bef698354be\" name=\"files[]\" multiple disabled />\n",
              "     <output id=\"result-c2bec03b-1056-4ecc-895e-6bef698354be\">\n",
              "      Upload widget is only available when the cell has been executed in the\n",
              "      current browser session. Please rerun this cell to enable.\n",
              "      </output>\n",
              "      <script src=\"/nbextensions/google.colab/files.js\"></script> "
            ],
            "text/plain": [
              "<IPython.core.display.HTML object>"
            ]
          },
          "metadata": {
            "tags": []
          }
        },
        {
          "output_type": "stream",
          "text": [
            "Saving fake_or_real_news.csv to fake_or_real_news (1).csv\n"
          ],
          "name": "stdout"
        },
        {
          "output_type": "execute_result",
          "data": {
            "text/plain": [
              "(6335, 4)"
            ]
          },
          "metadata": {
            "tags": []
          },
          "execution_count": 3
        }
      ]
    },
    {
      "cell_type": "code",
      "metadata": {
        "id": "eMysesKgyHIv",
        "colab_type": "code",
        "colab": {}
      },
      "source": [
        "y = data.label\n",
        "X_train, X_test, y_train, y_test = train_test_split(data['text'], y, test_size=0.33,random_state=53)"
      ],
      "execution_count": 0,
      "outputs": []
    },
    {
      "cell_type": "code",
      "metadata": {
        "id": "XxyPMp9CyHIy",
        "colab_type": "code",
        "outputId": "39e4649f-48de-424c-dadc-fe14ec406dbf",
        "colab": {
          "base_uri": "https://localhost:8080/",
          "height": 218
        }
      },
      "source": [
        "X_train"
      ],
      "execution_count": 0,
      "outputs": [
        {
          "output_type": "execute_result",
          "data": {
            "text/plain": [
              "2576                                                     \n",
              "1539    Report Copyright Violation Do you think there ...\n",
              "5163    The election in 232 photos, 43 numbers and 131...\n",
              "2615    Email Ever wonder what’s on the mind of today’...\n",
              "4270    Wells Fargo is Rotting from the Top Down Wells...\n",
              "                              ...                        \n",
              "662     —Debby Borza stood before a wall of photos of ...\n",
              "3261    Presumptive Republican nominee Donald Trump ha...\n",
              "5883    December's job growth numbers are in, and they...\n",
              "2933    In a wide-ranging discussion, Trump also said ...\n",
              "797     Top officials of the Cruz campaign are convinc...\n",
              "Name: text, Length: 4244, dtype: object"
            ]
          },
          "metadata": {
            "tags": []
          },
          "execution_count": 5
        }
      ]
    },
    {
      "cell_type": "code",
      "metadata": {
        "id": "5wJJZpXbyHI1",
        "colab_type": "code",
        "outputId": "d5ec79dd-6df3-409b-8a44-7c045b936b8e",
        "colab": {
          "base_uri": "https://localhost:8080/",
          "height": 34
        }
      },
      "source": [
        "print('Columns: ', data.columns)"
      ],
      "execution_count": 0,
      "outputs": [
        {
          "output_type": "stream",
          "text": [
            "Columns:  Index(['Unnamed: 0', 'title', 'text', 'label'], dtype='object')\n"
          ],
          "name": "stdout"
        }
      ]
    },
    {
      "cell_type": "code",
      "metadata": {
        "id": "VBiN0tLKyHI4",
        "colab_type": "code",
        "outputId": "37d038ae-618e-48d3-95d4-ab001c4a670e",
        "colab": {
          "base_uri": "https://localhost:8080/",
          "height": 195
        }
      },
      "source": [
        "data.head(5)"
      ],
      "execution_count": 0,
      "outputs": [
        {
          "output_type": "execute_result",
          "data": {
            "text/html": [
              "<div>\n",
              "<style scoped>\n",
              "    .dataframe tbody tr th:only-of-type {\n",
              "        vertical-align: middle;\n",
              "    }\n",
              "\n",
              "    .dataframe tbody tr th {\n",
              "        vertical-align: top;\n",
              "    }\n",
              "\n",
              "    .dataframe thead th {\n",
              "        text-align: right;\n",
              "    }\n",
              "</style>\n",
              "<table border=\"1\" class=\"dataframe\">\n",
              "  <thead>\n",
              "    <tr style=\"text-align: right;\">\n",
              "      <th></th>\n",
              "      <th>Unnamed: 0</th>\n",
              "      <th>title</th>\n",
              "      <th>text</th>\n",
              "      <th>label</th>\n",
              "    </tr>\n",
              "  </thead>\n",
              "  <tbody>\n",
              "    <tr>\n",
              "      <th>0</th>\n",
              "      <td>8476</td>\n",
              "      <td>You Can Smell Hillary’s Fear</td>\n",
              "      <td>Daniel Greenfield, a Shillman Journalism Fello...</td>\n",
              "      <td>FAKE</td>\n",
              "    </tr>\n",
              "    <tr>\n",
              "      <th>1</th>\n",
              "      <td>10294</td>\n",
              "      <td>Watch The Exact Moment Paul Ryan Committed Pol...</td>\n",
              "      <td>Google Pinterest Digg Linkedin Reddit Stumbleu...</td>\n",
              "      <td>FAKE</td>\n",
              "    </tr>\n",
              "    <tr>\n",
              "      <th>2</th>\n",
              "      <td>3608</td>\n",
              "      <td>Kerry to go to Paris in gesture of sympathy</td>\n",
              "      <td>U.S. Secretary of State John F. Kerry said Mon...</td>\n",
              "      <td>REAL</td>\n",
              "    </tr>\n",
              "    <tr>\n",
              "      <th>3</th>\n",
              "      <td>10142</td>\n",
              "      <td>Bernie supporters on Twitter erupt in anger ag...</td>\n",
              "      <td>— Kaydee King (@KaydeeKing) November 9, 2016 T...</td>\n",
              "      <td>FAKE</td>\n",
              "    </tr>\n",
              "    <tr>\n",
              "      <th>4</th>\n",
              "      <td>875</td>\n",
              "      <td>The Battle of New York: Why This Primary Matters</td>\n",
              "      <td>It's primary day in New York and front-runners...</td>\n",
              "      <td>REAL</td>\n",
              "    </tr>\n",
              "  </tbody>\n",
              "</table>\n",
              "</div>"
            ],
            "text/plain": [
              "   Unnamed: 0  ... label\n",
              "0        8476  ...  FAKE\n",
              "1       10294  ...  FAKE\n",
              "2        3608  ...  REAL\n",
              "3       10142  ...  FAKE\n",
              "4         875  ...  REAL\n",
              "\n",
              "[5 rows x 4 columns]"
            ]
          },
          "metadata": {
            "tags": []
          },
          "execution_count": 7
        }
      ]
    },
    {
      "cell_type": "code",
      "metadata": {
        "id": "prZyCopnyHI8",
        "colab_type": "code",
        "outputId": "e7f30073-e433-471e-ac09-547e1b7bcb72",
        "colab": {
          "base_uri": "https://localhost:8080/",
          "height": 218
        }
      },
      "source": [
        "X_test"
      ],
      "execution_count": 0,
      "outputs": [
        {
          "output_type": "execute_result",
          "data": {
            "text/plain": [
              "4221    Donald Trump threatened to sue the New York Ti...\n",
              "1685    Planned Parenthood: Abortion pill usage now ri...\n",
              "3348    In a last dash, final \"hail mary\" attempt to e...\n",
              "2633    Washington (CNN) Donald Trump and Ben Carson n...\n",
              "975     The Obama administration announced Friday it w...\n",
              "                              ...                        \n",
              "3888    In a marketing fiasco that could rank right up...\n",
              "2015    Email \\nThe Politico/Morning Consult Poll find...\n",
              "5860    The Maryland Democrat made the announcement Mo...\n",
              "3071    Prev post Page 1 of 4 Next \\nWhen most people ...\n",
              "4284    The Bushes are burning as they consume the new...\n",
              "Name: text, Length: 2091, dtype: object"
            ]
          },
          "metadata": {
            "tags": []
          },
          "execution_count": 8
        }
      ]
    },
    {
      "cell_type": "code",
      "metadata": {
        "id": "H__qg4pkyHJB",
        "colab_type": "code",
        "outputId": "df6a7913-f95a-4bf5-8f9a-83e78ef9d267",
        "colab": {
          "base_uri": "https://localhost:8080/",
          "height": 218
        }
      },
      "source": [
        "y_train"
      ],
      "execution_count": 0,
      "outputs": [
        {
          "output_type": "execute_result",
          "data": {
            "text/plain": [
              "2576    FAKE\n",
              "1539    FAKE\n",
              "5163    REAL\n",
              "2615    FAKE\n",
              "4270    FAKE\n",
              "        ... \n",
              "662     REAL\n",
              "3261    REAL\n",
              "5883    REAL\n",
              "2933    REAL\n",
              "797     REAL\n",
              "Name: label, Length: 4244, dtype: object"
            ]
          },
          "metadata": {
            "tags": []
          },
          "execution_count": 9
        }
      ]
    },
    {
      "cell_type": "code",
      "metadata": {
        "id": "oqU_TI8oyHJD",
        "colab_type": "code",
        "outputId": "08a6918a-d03e-4cbb-ffd5-47df2f39b924",
        "colab": {
          "base_uri": "https://localhost:8080/",
          "height": 218
        }
      },
      "source": [
        "y_test"
      ],
      "execution_count": 0,
      "outputs": [
        {
          "output_type": "execute_result",
          "data": {
            "text/plain": [
              "4221    REAL\n",
              "1685    FAKE\n",
              "3348    REAL\n",
              "2633    REAL\n",
              "975     REAL\n",
              "        ... \n",
              "3888    REAL\n",
              "2015    FAKE\n",
              "5860    REAL\n",
              "3071    FAKE\n",
              "4284    REAL\n",
              "Name: label, Length: 2091, dtype: object"
            ]
          },
          "metadata": {
            "tags": []
          },
          "execution_count": 10
        }
      ]
    },
    {
      "cell_type": "markdown",
      "metadata": {
        "id": "oOmvo1HlyHJF",
        "colab_type": "text"
      },
      "source": [
        "# CountVectorizer Method"
      ]
    },
    {
      "cell_type": "code",
      "metadata": {
        "id": "447nVJJ6yHJG",
        "colab_type": "code",
        "outputId": "d0cace56-6761-488a-fcea-42cc47f784ea",
        "colab": {
          "base_uri": "https://localhost:8080/",
          "height": 67
        }
      },
      "source": [
        "from sklearn.feature_extraction.text import CountVectorizer\n",
        "# list of text documents\n",
        "text = [\"Few black taxis drive up major roads on quiet hazy nights\"]\n",
        "# create the transform\n",
        "c_vectorizer = CountVectorizer()\n",
        "# tokenize and build vocab\n",
        "c_vectorizer.fit(text)\n",
        "# summarize\n",
        "print(c_vectorizer.vocabulary_)\n",
        "# encode document\n",
        "c_vector = c_vectorizer.transform(text)\n",
        "# summarize encoded vector\n",
        "print(c_vector.shape)\n",
        "#print(type(c_vector))\n",
        "print(c_vector.toarray())"
      ],
      "execution_count": 0,
      "outputs": [
        {
          "output_type": "stream",
          "text": [
            "{'few': 2, 'black': 0, 'taxis': 9, 'drive': 1, 'up': 10, 'major': 4, 'roads': 8, 'on': 6, 'quiet': 7, 'hazy': 3, 'nights': 5}\n",
            "(1, 11)\n",
            "[[1 1 1 1 1 1 1 1 1 1 1]]\n"
          ],
          "name": "stdout"
        }
      ]
    },
    {
      "cell_type": "code",
      "metadata": {
        "id": "oTmGtZiGyHJI",
        "colab_type": "code",
        "outputId": "02895547-0627-42a7-ade2-885c43ed59ab",
        "colab": {
          "base_uri": "https://localhost:8080/",
          "height": 34
        }
      },
      "source": [
        "# encode another document\n",
        "text2 = [\"black taxis\"]\n",
        "c2_vector = c_vectorizer.transform(text2)\n",
        "print(c2_vector.toarray())"
      ],
      "execution_count": 0,
      "outputs": [
        {
          "output_type": "stream",
          "text": [
            "[[1 0 0 0 0 0 0 0 0 1 0]]\n"
          ],
          "name": "stdout"
        }
      ]
    },
    {
      "cell_type": "code",
      "metadata": {
        "id": "byEZ1j5jyHJM",
        "colab_type": "code",
        "outputId": "09be7aeb-6d36-4b73-b2ac-7d71e8e704cc",
        "colab": {
          "base_uri": "https://localhost:8080/",
          "height": 118
        }
      },
      "source": [
        "corpus = [\n",
        "\"the house had a tiny little mouse\",\n",
        "\"the cat saw the mouse\",\n",
        "\"the mouse ran away from the house\",\n",
        "\"the cat finally ate the mouse\",\n",
        "\"the end of the mouse story\"\n",
        "]\n",
        "c2_vectorizer = CountVectorizer()\n",
        "X = c2_vectorizer.fit_transform(corpus)\n",
        "print(c2_vectorizer.get_feature_names())\n",
        "print(X.toarray())  "
      ],
      "execution_count": 0,
      "outputs": [
        {
          "output_type": "stream",
          "text": [
            "['ate', 'away', 'cat', 'end', 'finally', 'from', 'had', 'house', 'little', 'mouse', 'of', 'ran', 'saw', 'story', 'the', 'tiny']\n",
            "[[0 0 0 0 0 0 1 1 1 1 0 0 0 0 1 1]\n",
            " [0 0 1 0 0 0 0 0 0 1 0 0 1 0 2 0]\n",
            " [0 1 0 0 0 1 0 1 0 1 0 1 0 0 2 0]\n",
            " [1 0 1 0 1 0 0 0 0 1 0 0 0 0 2 0]\n",
            " [0 0 0 1 0 0 0 0 0 1 1 0 0 1 2 0]]\n"
          ],
          "name": "stdout"
        }
      ]
    },
    {
      "cell_type": "markdown",
      "metadata": {
        "id": "T62oi1UgyHJR",
        "colab_type": "text"
      },
      "source": [
        "# Implementing CountVectorizer "
      ]
    },
    {
      "cell_type": "code",
      "metadata": {
        "id": "EMnyyDX3yHJR",
        "colab_type": "code",
        "colab": {}
      },
      "source": [
        "count_vectorizer = CountVectorizer(stop_words='english')\n",
        "count_train = count_vectorizer.fit_transform(X_train.values)\n",
        "count_test = count_vectorizer.transform(X_test.values)"
      ],
      "execution_count": 0,
      "outputs": []
    },
    {
      "cell_type": "code",
      "metadata": {
        "id": "lLzMzDocyHJU",
        "colab_type": "code",
        "outputId": "0dd597cd-351a-4a41-d8db-2f65541ed347",
        "colab": {
          "base_uri": "https://localhost:8080/",
          "height": 50
        }
      },
      "source": [
        "import nltk\n",
        "nltk.download('stopwords')\n",
        "from nltk.corpus import stopwords"
      ],
      "execution_count": 0,
      "outputs": [
        {
          "output_type": "stream",
          "text": [
            "[nltk_data] Downloading package stopwords to /root/nltk_data...\n",
            "[nltk_data]   Unzipping corpora/stopwords.zip.\n"
          ],
          "name": "stdout"
        }
      ]
    },
    {
      "cell_type": "code",
      "metadata": {
        "id": "QBSmO7X9yHJX",
        "colab_type": "code",
        "colab": {}
      },
      "source": [
        "# Word Frequency calculator\n",
        "def word_frequency_cal(data):\n",
        "    tokenizer = nltk.tokenize.WhitespaceTokenizer()\n",
        "    words = {}\n",
        "    for line in data:\n",
        "        tokens = tokenizer.tokenize(line)\n",
        "        for token in tokens:\n",
        "            if token in words:\n",
        "                count = words[token] + 1\n",
        "                words[token] = count\n",
        "            else:\n",
        "                words[token] =  1\n",
        "                \n",
        "    return words"
      ],
      "execution_count": 0,
      "outputs": []
    },
    {
      "cell_type": "code",
      "metadata": {
        "id": "hFLqUAmbyHJY",
        "colab_type": "code",
        "colab": {}
      },
      "source": [
        "# Dictionary of all words from train corpus with their counts.\n",
        "words_counts = word_frequency_cal(X_train)"
      ],
      "execution_count": 0,
      "outputs": []
    },
    {
      "cell_type": "code",
      "metadata": {
        "id": "McDEjr86yHJb",
        "colab_type": "code",
        "colab": {}
      },
      "source": [
        "DICT_SIZE = 5000\n",
        "WORDS_TO_INDEX = {b[0]:a for a,b in enumerate(sorted(words_counts.items(), key=lambda x: x[1], reverse=True)[:5000])}\n",
        "INDEX_TO_WORDS = {b:a for a,b in WORDS_TO_INDEX.items()}\n",
        "ALL_WORDS = WORDS_TO_INDEX.keys()"
      ],
      "execution_count": 0,
      "outputs": []
    },
    {
      "cell_type": "code",
      "metadata": {
        "id": "2rZlSCu4yHJf",
        "colab_type": "code",
        "colab": {}
      },
      "source": [
        "def my_bag_of_words(text, words_to_index, dict_size):\n",
        "    \"\"\"\n",
        "        text: a string\n",
        "        dict_size: size of the dictionary\n",
        "        \n",
        "        return a vector which is a bag-of-words representation of 'text'\n",
        "    \"\"\"\n",
        "      # create a zero vector equaling the size of words list\n",
        "    result_vector = np.zeros(dict_size)\n",
        "    for word in set(text.split()):\n",
        "        if word in words_to_index:\n",
        "            result_vector[words_to_index[word]] = 1\n",
        "            \n",
        "    return result_vector"
      ],
      "execution_count": 0,
      "outputs": []
    },
    {
      "cell_type": "code",
      "metadata": {
        "id": "DOm4owSsyHJh",
        "colab_type": "code",
        "colab": {}
      },
      "source": [
        "from scipy import sparse as sp_sparse\n",
        "X_train_mybag = sp_sparse.vstack([sp_sparse.csr_matrix(my_bag_of_words(text, WORDS_TO_INDEX, DICT_SIZE)) for text in X_train])"
      ],
      "execution_count": 0,
      "outputs": []
    },
    {
      "cell_type": "markdown",
      "metadata": {
        "id": "zyjc8jenyHJj",
        "colab_type": "text"
      },
      "source": [
        "# TfidfVectorizer Method"
      ]
    },
    {
      "cell_type": "code",
      "metadata": {
        "id": "smn4cL-8yHJj",
        "colab_type": "code",
        "outputId": "59fb4f08-778f-4e09-8d09-6e5ed3aceda2",
        "colab": {
          "base_uri": "https://localhost:8080/",
          "height": 134
        }
      },
      "source": [
        "from sklearn.feature_extraction.text import TfidfVectorizer\n",
        "\n",
        "# list of text documents\n",
        "text = [\"Few black taxis drive up major roads on quiet hazy nights\",\"black taxis\", \"major roads\"]\n",
        "\n",
        "# create the transform\n",
        "t_vectorizer = TfidfVectorizer()\n",
        "\n",
        "# tokenize and build vocab\n",
        "t_vectorizer.fit(text)\n",
        "\n",
        "# summarize\n",
        "print(\"Vocabulary :- \",t_vectorizer.vocabulary_)\n",
        "print(\"IDF :- \",t_vectorizer.idf_)\n",
        "\n",
        "# encode document\n",
        "t_vector = t_vectorizer.transform([text[0]])\n",
        "\n",
        "# summarize encoded vector\n",
        "print(\"Text : \", text[0])\n",
        "print(\"Shape : \",t_vector.shape)\n",
        "\n",
        "print(\"Representation : \", t_vector.toarray())"
      ],
      "execution_count": 0,
      "outputs": [
        {
          "output_type": "stream",
          "text": [
            "Vocabulary :-  {'few': 2, 'black': 0, 'taxis': 9, 'drive': 1, 'up': 10, 'major': 4, 'roads': 8, 'on': 6, 'quiet': 7, 'hazy': 3, 'nights': 5}\n",
            "IDF :-  [1.28768207 1.69314718 1.69314718 1.69314718 1.28768207 1.69314718\n",
            " 1.69314718 1.69314718 1.28768207 1.28768207 1.69314718]\n",
            "Text :  Few black taxis drive up major roads on quiet hazy nights\n",
            "Shape :  (1, 11)\n",
            "Representation :  [[0.24920411 0.32767345 0.32767345 0.32767345 0.24920411 0.32767345\n",
            "  0.32767345 0.32767345 0.24920411 0.24920411 0.32767345]]\n"
          ],
          "name": "stdout"
        }
      ]
    },
    {
      "cell_type": "markdown",
      "metadata": {
        "id": "BH0Q1KSkyHJm",
        "colab_type": "text"
      },
      "source": [
        " # Implementing TfidfVectorizer"
      ]
    },
    {
      "cell_type": "code",
      "metadata": {
        "id": "uXRVszakyHJm",
        "colab_type": "code",
        "outputId": "6fb0c8f7-7f1b-4cb2-9769-c35bffe18f95",
        "colab": {
          "base_uri": "https://localhost:8080/",
          "height": 874
        }
      },
      "source": [
        "# Initialize the `tfidf_vectorizer` \n",
        "tfidf_vectorizer = TfidfVectorizer(stop_words='english', max_df=0.7) \n",
        "\n",
        "# Fit and transform the training data \n",
        "tfidf_train = tfidf_vectorizer.fit_transform(X_train) \n",
        "\n",
        "# Transform the test set \n",
        "tfidf_test = tfidf_vectorizer.transform(X_test)\n",
        "\n",
        "print(tfidf_test)"
      ],
      "execution_count": 0,
      "outputs": [
        {
          "output_type": "stream",
          "text": [
            "  (0, 56196)\t0.043317993781946\n",
            "  (0, 56091)\t0.032700334892684514\n",
            "  (0, 55858)\t0.05420932672571138\n",
            "  (0, 55358)\t0.059873902121258926\n",
            "  (0, 55027)\t0.048465128413932454\n",
            "  (0, 54772)\t0.06742854646276102\n",
            "  (0, 54647)\t0.03727533728426692\n",
            "  (0, 54484)\t0.1271579409566499\n",
            "  (0, 54400)\t0.05200707680397371\n",
            "  (0, 54182)\t0.17039563890103226\n",
            "  (0, 52193)\t0.050614987002584974\n",
            "  (0, 52166)\t0.09946716362549408\n",
            "  (0, 52164)\t0.07141989873688631\n",
            "  (0, 51896)\t0.09946458588236584\n",
            "  (0, 51083)\t0.06988430196901438\n",
            "  (0, 50973)\t0.11421142130023298\n",
            "  (0, 50920)\t0.08108261495679815\n",
            "  (0, 50712)\t0.07153047197062776\n",
            "  (0, 50690)\t0.05024667107829908\n",
            "  (0, 50627)\t0.04286648720912277\n",
            "  (0, 48965)\t0.06202757667895662\n",
            "  (0, 48929)\t0.17556869825083593\n",
            "  (0, 46631)\t0.14220349264725846\n",
            "  (0, 46621)\t0.10706347107534141\n",
            "  (0, 44522)\t0.040932482324428275\n",
            "  :\t:\n",
            "  (2090, 5969)\t0.03303772830203347\n",
            "  (2090, 5576)\t0.04943418930560652\n",
            "  (2090, 5530)\t0.05752451982231977\n",
            "  (2090, 4919)\t0.026792001261175008\n",
            "  (2090, 4321)\t0.03889600231664325\n",
            "  (2090, 4283)\t0.04943418930560652\n",
            "  (2090, 4024)\t0.046164206664987995\n",
            "  (2090, 3963)\t0.04276342023089646\n",
            "  (2090, 3962)\t0.03984416880301212\n",
            "  (2090, 3821)\t0.031026844187897015\n",
            "  (2090, 3705)\t0.03856440623639213\n",
            "  (2090, 3448)\t0.06787452846799416\n",
            "  (2090, 3384)\t0.04376239604373169\n",
            "  (2090, 3309)\t0.03505015039159429\n",
            "  (2090, 3134)\t0.05057541273488484\n",
            "  (2090, 3012)\t0.05557717524951092\n",
            "  (2090, 2653)\t0.04826147055215645\n",
            "  (2090, 2578)\t0.07526710922172818\n",
            "  (2090, 2577)\t0.0706094587636242\n",
            "  (2090, 2505)\t0.0440549736788721\n",
            "  (2090, 2167)\t0.02050185813837838\n",
            "  (2090, 2113)\t0.035161571989314626\n",
            "  (2090, 1140)\t0.0706094587636242\n",
            "  (2090, 1113)\t0.07264405651214609\n",
            "  (2090, 649)\t0.01836897745872662\n"
          ],
          "name": "stdout"
        }
      ]
    },
    {
      "cell_type": "markdown",
      "metadata": {
        "id": "ZtyDTgNoyHJo",
        "colab_type": "text"
      },
      "source": [
        "# Confusion Matrix "
      ]
    },
    {
      "cell_type": "code",
      "metadata": {
        "id": "vNGVhW8gyHJp",
        "colab_type": "code",
        "colab": {}
      },
      "source": [
        "import matplotlib.pyplot as plt\n",
        "def plot_confusion_matrix(cm, classes,\n",
        "                          normalize=False,\n",
        "                          title='Confusion matrix',\n",
        "                          cmap=plt.cm.Blues):\n",
        "    plt.imshow(cm, interpolation='nearest', cmap=cmap)\n",
        "    plt.title(title)\n",
        "    plt.colorbar()\n",
        "    tick_marks = np.arange(len(classes))\n",
        "    plt.xticks(tick_marks, classes, rotation=45)\n",
        "    plt.yticks(tick_marks, classes)\n",
        "\n",
        "    if normalize:\n",
        "        cm = cm.astype('float') / cm.sum(axis=1)[:, np.newaxis]\n",
        "        print(\"Normalized confusion matrix\")\n",
        "    else:\n",
        "        print('Confusion matrix, without normalization')\n",
        "\n",
        "    thresh = cm.max() / 2.\n",
        "    for i, j in itertools.product(range(cm.shape[0]), range(cm.shape[1])):\n",
        "        plt.text(j, i, cm[i, j],\n",
        "                 horizontalalignment=\"center\",\n",
        "                 color=\"white\" if cm[i, j] > thresh else \"black\")\n",
        "\n",
        "    plt.tight_layout()\n",
        "    plt.ylabel('True label')\n",
        "    plt.xlabel('Predicted label')"
      ],
      "execution_count": 0,
      "outputs": []
    },
    {
      "cell_type": "markdown",
      "metadata": {
        "id": "sDYb8ufgyHJq",
        "colab_type": "text"
      },
      "source": [
        "# Classification using Count Vectorizers Word Vectors"
      ]
    },
    {
      "cell_type": "code",
      "metadata": {
        "id": "0PmKRJ-GyHJr",
        "colab_type": "code",
        "outputId": "30cc3c84-223f-46b8-8ff7-2d2fd67de6be",
        "colab": {
          "base_uri": "https://localhost:8080/",
          "height": 378
        }
      },
      "source": [
        "clf = MultinomialNB() \n",
        "clf.fit(count_train, y_train)\n",
        "pred = clf.predict(count_test)\n",
        "score = accuracy_score(y_test, pred)\n",
        "print(\"accuracy:   %0.3f\" % score)\n",
        "cm = confusion_matrix(y_test, pred, labels=['FAKE', 'REAL'])\n",
        "print(cm)\n",
        "plot_confusion_matrix(cm, classes=['Fake News', 'Real News'])"
      ],
      "execution_count": 0,
      "outputs": [
        {
          "output_type": "stream",
          "text": [
            "accuracy:   0.893\n",
            "[[ 865  143]\n",
            " [  80 1003]]\n",
            "Confusion matrix, without normalization\n"
          ],
          "name": "stdout"
        },
        {
          "output_type": "display_data",
          "data": {
            "image/png": "[encoded data removed]",
            "text/plain": [
              "<Figure size 432x288 with 2 Axes>"
            ]
          },
          "metadata": {
            "tags": [],
            "needs_background": "light"
          }
        }
      ]
    },
    {
      "cell_type": "markdown",
      "metadata": {
        "id": "aG2GpQTkyHJu",
        "colab_type": "text"
      },
      "source": [
        "# Classification using TF-IDF Word Vectors"
      ]
    },
    {
      "cell_type": "code",
      "metadata": {
        "id": "NEaT8a4QyHJu",
        "colab_type": "code",
        "outputId": "bf4b3ba5-ff1b-4620-dd47-44fa1d76480b",
        "colab": {
          "base_uri": "https://localhost:8080/",
          "height": 378
        }
      },
      "source": [
        "clf = MultinomialNB() \n",
        "clf.fit(tfidf_train, y_train)\n",
        "pred = clf.predict(tfidf_test)\n",
        "score = accuracy_score(y_test, pred)\n",
        "print(\"accuracy:   %0.3f\" % score)\n",
        "cm = confusion_matrix(y_test, pred, labels=['FAKE', 'REAL'])\n",
        "print(cm)\n",
        "plot_confusion_matrix(cm, classes=['FAKE', 'REAL'])"
      ],
      "execution_count": 0,
      "outputs": [
        {
          "output_type": "stream",
          "text": [
            "accuracy:   0.857\n",
            "[[ 739  269]\n",
            " [  31 1052]]\n",
            "Confusion matrix, without normalization\n"
          ],
          "name": "stdout"
        },
        {
          "output_type": "display_data",
          "data": {
            "image/png": "[encoded data removed]",
            "text/plain": [
              "<Figure size 432x288 with 2 Axes>"
            ]
          },
          "metadata": {
            "tags": [],
            "needs_background": "light"
          }
        }
      ]
    },
    {
      "cell_type": "markdown",
      "metadata": {
        "id": "PKRooKpfyHJx",
        "colab_type": "text"
      },
      "source": [
        "# Implementing Web Scraping to fetch news from World Wide Web"
      ]
    },
    {
      "cell_type": "code",
      "metadata": {
        "id": "ziv_3HNyyHJy",
        "colab_type": "code",
        "outputId": "10d67780-925f-4098-d3f6-823f6f20edc3",
        "colab": {
          "base_uri": "https://localhost:8080/",
          "height": 34
        }
      },
      "source": [
        "import requests\n",
        "from bs4 import BeautifulSoup\n",
        "\n",
        "\n",
        "url = 'https://www.dailymail.co.uk/news/article-2415189/The-quick-brown-fox-jumps-lazy-dog-Saying-comes-true-camera.html'\n",
        "page = requests.get(url)\n",
        "\n",
        "soup = BeautifulSoup(page.text, 'html.parser')\n",
        "\n",
        "soup\n",
        "\n",
        "news_containers = soup.find_all('title')\n",
        "\n",
        "remove_words =['<title>','</title>']\n",
        "\n",
        "str2 = str(news_containers)\n",
        "\n",
        "remove_words =['<title>','</title>']\n",
        "\n",
        "for tag in remove_words:\n",
        "    if tag in str2:\n",
        "\n",
        "        str2 = str2.replace(tag,\"\")\n",
        "\n",
        "news_text = str2\n",
        "news_text\n"
      ],
      "execution_count": 0,
      "outputs": [
        {
          "output_type": "execute_result",
          "data": {
            "text/plain": [
              "'[The quick brown fox jumps over the lazy dog! Saying comes true in front of camera | Daily Mail Online]'"
            ]
          },
          "metadata": {
            "tags": []
          },
          "execution_count": 26
        }
      ]
    },
    {
      "cell_type": "markdown",
      "metadata": {
        "id": "FEThLLrVyHJ1",
        "colab_type": "text"
      },
      "source": [
        "# Implementing HashingVectorizer with fetched news"
      ]
    },
    {
      "cell_type": "code",
      "metadata": {
        "id": "dp43EkzryHJ1",
        "colab_type": "code",
        "outputId": "ea14a9f7-76e9-49f9-fafa-3a9d621e875f",
        "colab": {
          "base_uri": "https://localhost:8080/",
          "height": 101
        }
      },
      "source": [
        "from sklearn.feature_extraction.text import HashingVectorizer\n",
        "# list of text documents\n",
        "text = [news_text]\n",
        "# create the transform\n",
        "vectorizer = HashingVectorizer(n_features=20)\n",
        "# encode document\n",
        "vector = vectorizer.transform(text)\n",
        "# summarize encoded vector\n",
        "print(vector.shape)\n",
        "print(vector.toarray())"
      ],
      "execution_count": 0,
      "outputs": [
        {
          "output_type": "stream",
          "text": [
            "(1, 20)\n",
            "[[ 0.          0.          0.24253563  0.          0.24253563  0.\n",
            "   0.         -0.24253563  0.48507125  0.          0.24253563  0.24253563\n",
            "   0.         -0.24253563  0.         -0.24253563  0.24253563  0.48507125\n",
            "  -0.24253563  0.        ]]\n"
          ],
          "name": "stdout"
        }
      ]
    },
    {
      "cell_type": "markdown",
      "metadata": {
        "id": "pdE_8qOfyHJ3",
        "colab_type": "text"
      },
      "source": [
        "# Implementing HashingVectorizer on dataset"
      ]
    },
    {
      "cell_type": "code",
      "metadata": {
        "id": "AxzrcnPzyHJ4",
        "colab_type": "code",
        "outputId": "af57b360-c9e9-4bd2-9cca-d5acb522157b",
        "colab": {
          "base_uri": "https://localhost:8080/",
          "height": 874
        }
      },
      "source": [
        "from sklearn.feature_extraction.text import HashingVectorizer\n",
        "# Initialize the hashing vectorizer\n",
        "hashing_vectorizer = HashingVectorizer(stop_words='english', n_features=5000, alternate_sign=False)\n",
        "# decode_error = 'ignore'\n",
        "\n",
        "# Fit and transform the training data \n",
        "hashing_train = hashing_vectorizer.fit_transform(X_train)\n",
        "\n",
        "# Transform the test set \n",
        "hashing_test = hashing_vectorizer.transform(X_test)\n",
        "\n",
        "print(hashing_test)"
      ],
      "execution_count": 0,
      "outputs": [
        {
          "output_type": "stream",
          "text": [
            "  (0, 112)\t0.07930515857181442\n",
            "  (0, 246)\t0.07930515857181442\n",
            "  (0, 258)\t0.07930515857181442\n",
            "  (0, 341)\t0.15861031714362883\n",
            "  (0, 345)\t0.07930515857181442\n",
            "  (0, 410)\t0.07930515857181442\n",
            "  (0, 418)\t0.07930515857181442\n",
            "  (0, 552)\t0.07930515857181442\n",
            "  (0, 572)\t0.07930515857181442\n",
            "  (0, 576)\t0.07930515857181442\n",
            "  (0, 695)\t0.15861031714362883\n",
            "  (0, 726)\t0.07930515857181442\n",
            "  (0, 806)\t0.07930515857181442\n",
            "  (0, 815)\t0.07930515857181442\n",
            "  (0, 945)\t0.15861031714362883\n",
            "  (0, 1064)\t0.07930515857181442\n",
            "  (0, 1084)\t0.07930515857181442\n",
            "  (0, 1088)\t0.31722063428725766\n",
            "  (0, 1213)\t0.07930515857181442\n",
            "  (0, 1219)\t0.07930515857181442\n",
            "  (0, 1232)\t0.07930515857181442\n",
            "  (0, 1254)\t0.07930515857181442\n",
            "  (0, 1307)\t0.15861031714362883\n",
            "  (0, 1341)\t0.07930515857181442\n",
            "  (0, 1387)\t0.15861031714362883\n",
            "  :\t:\n",
            "  (2090, 4503)\t0.02854813347699592\n",
            "  (2090, 4547)\t0.02854813347699592\n",
            "  (2090, 4565)\t0.02854813347699592\n",
            "  (2090, 4567)\t0.02854813347699592\n",
            "  (2090, 4571)\t0.02854813347699592\n",
            "  (2090, 4574)\t0.02854813347699592\n",
            "  (2090, 4602)\t0.02854813347699592\n",
            "  (2090, 4612)\t0.05709626695399184\n",
            "  (2090, 4640)\t0.02854813347699592\n",
            "  (2090, 4654)\t0.1427406673849796\n",
            "  (2090, 4695)\t0.02854813347699592\n",
            "  (2090, 4715)\t0.02854813347699592\n",
            "  (2090, 4728)\t0.05709626695399184\n",
            "  (2090, 4742)\t0.02854813347699592\n",
            "  (2090, 4745)\t0.1427406673849796\n",
            "  (2090, 4765)\t0.11419253390798367\n",
            "  (2090, 4782)\t0.02854813347699592\n",
            "  (2090, 4785)\t0.02854813347699592\n",
            "  (2090, 4843)\t0.05709626695399184\n",
            "  (2090, 4866)\t0.02854813347699592\n",
            "  (2090, 4889)\t0.02854813347699592\n",
            "  (2090, 4894)\t0.02854813347699592\n",
            "  (2090, 4902)\t0.02854813347699592\n",
            "  (2090, 4918)\t0.02854813347699592\n",
            "  (2090, 4981)\t0.1712888008619755\n"
          ],
          "name": "stdout"
        }
      ]
    },
    {
      "cell_type": "markdown",
      "metadata": {
        "id": "Qg39F0FPyHJ6",
        "colab_type": "text"
      },
      "source": [
        "# Classification using Hashing Word Vectors"
      ]
    },
    {
      "cell_type": "code",
      "metadata": {
        "id": "0bBYMZP7yHJ6",
        "colab_type": "code",
        "outputId": "196c2094-4f93-415e-ceae-ee534e19aa37",
        "colab": {
          "base_uri": "https://localhost:8080/",
          "height": 378
        }
      },
      "source": [
        "clf = MultinomialNB() \n",
        "clf.fit(hashing_train, y_train)\n",
        "pred = clf.predict(hashing_test)\n",
        "score = accuracy_score(y_test, pred)\n",
        "print(\"accuracy:   %0.3f\" % score)\n",
        "cm = confusion_matrix(y_test, pred, labels=['FAKE', 'REAL'])\n",
        "print(cm)\n",
        "plot_confusion_matrix(cm, classes=['FAKE', 'REAL'])"
      ],
      "execution_count": 0,
      "outputs": [
        {
          "output_type": "stream",
          "text": [
            "accuracy:   0.869\n",
            "[[866 142]\n",
            " [131 952]]\n",
            "Confusion matrix, without normalization\n"
          ],
          "name": "stdout"
        },
        {
          "output_type": "display_data",
          "data": {
            "image/png": "[encoded data removed]",
            "text/plain": [
              "<Figure size 432x288 with 2 Axes>"
            ]
          },
          "metadata": {
            "tags": [],
            "needs_background": "light"
          }
        }
      ]
    },
    {
      "cell_type": "markdown",
      "metadata": {
        "id": "KzWmv0dMyHJ9",
        "colab_type": "text"
      },
      "source": [
        "# Bag of Words Approach"
      ]
    },
    {
      "cell_type": "code",
      "metadata": {
        "scrolled": false,
        "id": "8rAytB3gyHJ-",
        "colab_type": "code",
        "colab": {}
      },
      "source": [
        "# Word Frequency calculator\n",
        "def word_frequency(data):\n",
        "    tokenizer = nltk.tokenize.WhitespaceTokenizer()\n",
        "    words = {}\n",
        "    for line in data:\n",
        "        tokens = tokenizer.tokenize(line)\n",
        "        for token in tokens:\n",
        "            if token in words:\n",
        "                count = words[token] + 1\n",
        "                words[token] = count\n",
        "            else:\n",
        "                words[token] =  1\n",
        "                \n",
        "    return words"
      ],
      "execution_count": 0,
      "outputs": []
    },
    {
      "cell_type": "code",
      "metadata": {
        "id": "T25HFeLUyHKA",
        "colab_type": "code",
        "colab": {}
      },
      "source": [
        "words_counts = word_frequency(X_train)"
      ],
      "execution_count": 0,
      "outputs": []
    },
    {
      "cell_type": "code",
      "metadata": {
        "id": "sUF4hfVByHKC",
        "colab_type": "code",
        "colab": {}
      },
      "source": [
        "DICT_SIZE = 5000\n",
        "WORDS_TO_INDEX = {b[0]:a for a,b in enumerate(sorted(words_counts.items(), key=lambda x: x[1], reverse=True)[:5000])}\n",
        "INDEX_TO_WORDS = {b:a for a,b in WORDS_TO_INDEX.items()}\n",
        "ALL_WORDS = WORDS_TO_INDEX.keys()"
      ],
      "execution_count": 0,
      "outputs": []
    },
    {
      "cell_type": "code",
      "metadata": {
        "id": "MzAwgckXyHKE",
        "colab_type": "code",
        "colab": {}
      },
      "source": [
        "def my_bag_of_words(text, words_to_index, dict_size):\n",
        "\n",
        "      # create a zero vector equaling the size of words list\n",
        "    result_vector = np.zeros(dict_size)\n",
        "    for word in set(text.split()):\n",
        "        if word in words_to_index:\n",
        "            result_vector[words_to_index[word]] = 1\n",
        "            \n",
        "    return result_vector"
      ],
      "execution_count": 0,
      "outputs": []
    },
    {
      "cell_type": "code",
      "metadata": {
        "id": "bRKhj7l2yHKG",
        "colab_type": "code",
        "colab": {}
      },
      "source": [
        "from scipy import sparse as sp_sparse"
      ],
      "execution_count": 0,
      "outputs": []
    },
    {
      "cell_type": "code",
      "metadata": {
        "id": "rHb4flwtyHKI",
        "colab_type": "code",
        "outputId": "c3f1dd89-ed1f-49f7-e7a7-a9961c5ede9a",
        "colab": {
          "base_uri": "https://localhost:8080/",
          "height": 50
        }
      },
      "source": [
        "X_train_mybag = sp_sparse.vstack([sp_sparse.csr_matrix(my_bag_of_words(text, WORDS_TO_INDEX, DICT_SIZE)) for text in X_train])\n",
        "X_test_mybag = sp_sparse.vstack([sp_sparse.csr_matrix(my_bag_of_words(text, WORDS_TO_INDEX, DICT_SIZE)) for text in X_test])\n",
        "print('X_train shape ', X_train_mybag.shape)\n",
        "print('X_test shape ', X_test_mybag.shape)"
      ],
      "execution_count": 0,
      "outputs": [
        {
          "output_type": "stream",
          "text": [
            "X_train shape  (4244, 5000)\n",
            "X_test shape  (2091, 5000)\n"
          ],
          "name": "stdout"
        }
      ]
    },
    {
      "cell_type": "code",
      "metadata": {
        "id": "9esBiSfTyHKK",
        "colab_type": "code",
        "colab": {}
      },
      "source": [
        "def plot_learning_curve(estimator, title, X, y, ylim=None, cv=None,\n",
        "                        n_jobs=None, train_sizes=np.linspace(.1, 1.0, 5)):\n",
        "    plt.figure(figsize=(12,8))\n",
        "    plt.title(title)\n",
        "    if ylim is not None:\n",
        "        plt.ylim(*ylim)\n",
        "    plt.xlabel(\"Examples\")\n",
        "    plt.ylabel(\"Score\")\n",
        "    train_sizes, train_scores, test_scores = learning_curve(\n",
        "        estimator, X, y, cv=cv, n_jobs=n_jobs, train_sizes=train_sizes)\n",
        "    train_scores_mean = np.mean(train_scores, axis=1)\n",
        "    train_scores_std = np.std(train_scores, axis=1)\n",
        "    test_scores_mean = np.mean(test_scores, axis=1)\n",
        "    test_scores_std = np.std(test_scores, axis=1)\n",
        "    plt.grid()\n",
        "\n",
        "    plt.fill_between(train_sizes, train_scores_mean - train_scores_std,\n",
        "                     train_scores_mean + train_scores_std, alpha=0.1,\n",
        "                     color=\"r\")\n",
        "    plt.fill_between(train_sizes, test_scores_mean - test_scores_std,\n",
        "                     test_scores_mean + test_scores_std, alpha=0.1, color=\"g\")\n",
        "    plt.plot(train_sizes, train_scores_mean, 'o-', color=\"r\",\n",
        "             label=\"Training score\")\n",
        "    plt.plot(train_sizes, test_scores_mean, 'o-', color=\"g\",\n",
        "             label=\"Cross-validation score\")\n",
        "\n",
        "    plt.legend(loc=\"best\")\n",
        "    return plt"
      ],
      "execution_count": 0,
      "outputs": []
    },
    {
      "cell_type": "code",
      "metadata": {
        "id": "EVhEqkbFyHKO",
        "colab_type": "code",
        "colab": {}
      },
      "source": [
        "# Navie Bayes classifier on BOW data\n",
        "classifier_bow = MultinomialNB()"
      ],
      "execution_count": 0,
      "outputs": []
    },
    {
      "cell_type": "code",
      "metadata": {
        "id": "_2Q3LYS6yHKQ",
        "colab_type": "code",
        "colab": {}
      },
      "source": [
        "classifier_bow.fit(X_train_mybag, y_train)\n",
        "prediction_bow = classifier_bow.predict(X_test_mybag)"
      ],
      "execution_count": 0,
      "outputs": []
    },
    {
      "cell_type": "code",
      "metadata": {
        "id": "jOBaGUVFyHKU",
        "colab_type": "code",
        "colab": {}
      },
      "source": [
        "cm_bow = metrics.confusion_matrix(y_test, prediction_bow)"
      ],
      "execution_count": 0,
      "outputs": []
    },
    {
      "cell_type": "code",
      "metadata": {
        "id": "FGPQ_4zIyHKX",
        "colab_type": "code",
        "colab": {}
      },
      "source": [
        "prediction_bow = classifier_bow.predict(X_test_mybag)"
      ],
      "execution_count": 0,
      "outputs": []
    },
    {
      "cell_type": "code",
      "metadata": {
        "id": "tP2sBDLPyHKZ",
        "colab_type": "code",
        "colab": {}
      },
      "source": [
        "cv = ShuffleSplit(n_splits=100, test_size=0.2, random_state=0)"
      ],
      "execution_count": 0,
      "outputs": []
    },
    {
      "cell_type": "code",
      "metadata": {
        "id": "htB0BJrMyHKb",
        "colab_type": "code",
        "outputId": "14e214ed-2837-4f5b-ad96-59d511b6aeba",
        "colab": {
          "base_uri": "https://localhost:8080/",
          "height": 530
        }
      },
      "source": [
        "plot_learning_curve(classifier_bow, \n",
        "                    \"Training & Validation Loss (BOW)\", \n",
        "                    X_train_mybag, \n",
        "                    y_train, ylim=(0.7, 1.01), cv=cv, n_jobs=4)"
      ],
      "execution_count": 0,
      "outputs": [
        {
          "output_type": "execute_result",
          "data": {
            "text/plain": [
              "<module 'matplotlib.pyplot' from '/usr/local/lib/python3.6/dist-packages/matplotlib/pyplot.py'>"
            ]
          },
          "metadata": {
            "tags": []
          },
          "execution_count": 43
        },
        {
          "output_type": "display_data",
          "data": {
            "image/png": "[encoded data removed]",
            "text/plain": [
              "<Figure size 864x576 with 1 Axes>"
            ]
          },
          "metadata": {
            "tags": [],
            "needs_background": "light"
          }
        }
      ]
    },
    {
      "cell_type": "code",
      "metadata": {
        "id": "_AUmXka3yHKe",
        "colab_type": "code",
        "outputId": "8beaee93-e1e3-4084-9d61-b1fc06300501",
        "colab": {
          "base_uri": "https://localhost:8080/",
          "height": 34
        }
      },
      "source": [
        "score_bow = metrics.accuracy_score(y_test, prediction_bow)\n",
        "print('Accuracy Score: ', score_bow)"
      ],
      "execution_count": 0,
      "outputs": [
        {
          "output_type": "stream",
          "text": [
            "Accuracy Score:  0.9019607843137255\n"
          ],
          "name": "stdout"
        }
      ]
    },
    {
      "cell_type": "code",
      "metadata": {
        "id": "IfS3piB6yHKi",
        "colab_type": "code",
        "outputId": "300ba760-e367-4b8d-e8dc-94c3997d5e2c",
        "colab": {
          "base_uri": "https://localhost:8080/",
          "height": 328
        }
      },
      "source": [
        "cm_bow = metrics.confusion_matrix(y_test, prediction_bow)\n",
        "plot_confusion_matrix(cm_bow, classes=['Fake News','Real News'])"
      ],
      "execution_count": 0,
      "outputs": [
        {
          "output_type": "stream",
          "text": [
            "Confusion matrix, without normalization\n"
          ],
          "name": "stdout"
        },
        {
          "output_type": "display_data",
          "data": {
            "image/png": "[encoded data removed]",
            "text/plain": [
              "<Figure size 432x288 with 2 Axes>"
            ]
          },
          "metadata": {
            "tags": [],
            "needs_background": "light"
          }
        }
      ]
    },
    {
      "cell_type": "code",
      "metadata": {
        "id": "woOqrWhPyHKj",
        "colab_type": "code",
        "colab": {}
      },
      "source": [
        ""
      ],
      "execution_count": 0,
      "outputs": []
    }
  ]
}